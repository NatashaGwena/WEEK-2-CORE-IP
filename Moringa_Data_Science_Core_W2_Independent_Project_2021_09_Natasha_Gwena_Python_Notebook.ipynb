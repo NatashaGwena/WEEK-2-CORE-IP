{
  "nbformat": 4,
  "nbformat_minor": 0,
  "metadata": {
    "colab": {
      "name": "Moringa_Data_Science_Core_W2_Independent_Project_2021_09_Natasha_Gwena_Python_Notebook.ipynb",
      "provenance": [],
      "toc_visible": true,
      "authorship_tag": "ABX9TyOsHmIi4ZOJ5cKfOirTyH0k",
      "include_colab_link": true
    },
    "kernelspec": {
      "name": "python3",
      "display_name": "Python 3"
    },
    "language_info": {
      "name": "python"
    }
  },
  "cells": [
    {
      "cell_type": "markdown",
      "metadata": {
        "id": "view-in-github",
        "colab_type": "text"
      },
      "source": [
        "<a href=\"https://colab.research.google.com/github/NatashaGwena/WEEK-2-CORE-IP/blob/main/Moringa_Data_Science_Core_W2_Independent_Project_2021_09_Natasha_Gwena_Python_Notebook.ipynb\" target=\"_parent\"><img src=\"https://colab.research.google.com/assets/colab-badge.svg\" alt=\"Open In Colab\"/></a>"
      ]
    },
    {
      "cell_type": "markdown",
      "metadata": {
        "id": "G1RwYr9bxIAq"
      },
      "source": [
        "The research problem is to figure out how we can predict which individuals are most likely to have or use a bank account. Your solution will help provide an indication of the state of financial inclusion in Kenya, Rwanda, Tanzania, and Uganda, while providing insights into some of the key demographic factors that might drive individuals’ financial outcomes.\n",
        "\n"
      ]
    },
    {
      "cell_type": "markdown",
      "metadata": {
        "id": "suAvU18yq9Hy"
      },
      "source": [
        "#**1. Defining the question**\n",
        "\n",
        "\n"
      ]
    },
    {
      "cell_type": "markdown",
      "metadata": {
        "id": "53as0s_OraZx"
      },
      "source": [
        "## a) Defining the Metric of Success\n",
        "\n",
        "The measure of success of this analysis is if it is able to predict the individuals are most likely to have or use a bank account in Kenya, Rwanda, Tanzania, and Uganda while at the same time provide insights into key demographic factors that might drive individuals’ financial outcomes"
      ]
    },
    {
      "cell_type": "markdown",
      "metadata": {
        "id": "64Mz63zDrjhD"
      },
      "source": [
        "## b) Understanding the context\n",
        "The ultimate aim of policies and strategies for financial inclusion is to increase access to formal financial\n",
        "institutions and increase the uptake and usage of financial products and services (i.e. those provided by\n",
        "regulated service providers)"
      ]
    },
    {
      "cell_type": "markdown",
      "metadata": {
        "id": "emZ6S717rvlA"
      },
      "source": [
        "## c) The experimental design taken\n",
        "\n",
        "We shall be conducting Explorative Data Analysis, i.e Univariate and Bivariate to get the relationships and differences between different variables hence coming up with a prediction on individuals who are most likely to have or use a bank account"
      ]
    },
    {
      "cell_type": "markdown",
      "metadata": {
        "id": "T1ilAhNPr27A"
      },
      "source": [
        "## d) Data Relevance\n",
        "\n",
        "The data provided is for the year 2016 to 2018 for all the countries in our study, i.e(Kenya, Rwanda, Tanzania, and Uganda)\n",
        "This enabled us come up with trends to depict which group of people are likely to have a bank account. \n",
        "The data contains important variables such as Gender, Education level, Age, Job type, etc. These are very useful in determining whether the different groups have access to a bank account or not."
      ]
    },
    {
      "cell_type": "markdown",
      "metadata": {
        "id": "vHDfsOBAsJob"
      },
      "source": [
        "#**2. Reading the data**"
      ]
    },
    {
      "cell_type": "code",
      "metadata": {
        "id": "ls6qLcA00Jxy"
      },
      "source": [
        "# Importing Libraries\n",
        "# \n",
        "import pandas as pd\n",
        "import numpy as np\n",
        "import seaborn as sns\n",
        "import matplotlib.pyplot as plt"
      ],
      "execution_count": 1,
      "outputs": []
    },
    {
      "cell_type": "code",
      "metadata": {
        "colab": {
          "base_uri": "https://localhost:8080/",
          "height": 377
        },
        "id": "ExOlH1rgJ-Hh",
        "outputId": "5e7ec7b8-bee7-41a5-f01d-e0ee29200de6"
      },
      "source": [
        "# Loading the Financia lDataset data\n",
        "# Define a function to load the dataset\n",
        "\n",
        "def load(file):\n",
        "  data = pd.read_csv(file)\n",
        "  return data\n",
        "df=load(\"http://bit.ly/FinancialDataset\")\n",
        "df.head()"
      ],
      "execution_count": 11,
      "outputs": [
        {
          "output_type": "execute_result",
          "data": {
            "text/html": [
              "<div>\n",
              "<style scoped>\n",
              "    .dataframe tbody tr th:only-of-type {\n",
              "        vertical-align: middle;\n",
              "    }\n",
              "\n",
              "    .dataframe tbody tr th {\n",
              "        vertical-align: top;\n",
              "    }\n",
              "\n",
              "    .dataframe thead th {\n",
              "        text-align: right;\n",
              "    }\n",
              "</style>\n",
              "<table border=\"1\" class=\"dataframe\">\n",
              "  <thead>\n",
              "    <tr style=\"text-align: right;\">\n",
              "      <th></th>\n",
              "      <th>country</th>\n",
              "      <th>year</th>\n",
              "      <th>uniqueid</th>\n",
              "      <th>Has a Bank account</th>\n",
              "      <th>Type of Location</th>\n",
              "      <th>Cell Phone Access</th>\n",
              "      <th>household_size</th>\n",
              "      <th>Respondent Age</th>\n",
              "      <th>gender_of_respondent</th>\n",
              "      <th>The relathip with head</th>\n",
              "      <th>marital_status</th>\n",
              "      <th>Level of Educuation</th>\n",
              "      <th>Type of Job</th>\n",
              "    </tr>\n",
              "  </thead>\n",
              "  <tbody>\n",
              "    <tr>\n",
              "      <th>0</th>\n",
              "      <td>Kenya</td>\n",
              "      <td>2018</td>\n",
              "      <td>uniqueid_1</td>\n",
              "      <td>Yes</td>\n",
              "      <td>Rural</td>\n",
              "      <td>Yes</td>\n",
              "      <td>3.0</td>\n",
              "      <td>24.0</td>\n",
              "      <td>Female</td>\n",
              "      <td>Spouse</td>\n",
              "      <td>Married/Living together</td>\n",
              "      <td>Secondary education</td>\n",
              "      <td>Self employed</td>\n",
              "    </tr>\n",
              "    <tr>\n",
              "      <th>1</th>\n",
              "      <td>Kenya</td>\n",
              "      <td>2018</td>\n",
              "      <td>uniqueid_2</td>\n",
              "      <td>No</td>\n",
              "      <td>Rural</td>\n",
              "      <td>No</td>\n",
              "      <td>5.0</td>\n",
              "      <td>70.0</td>\n",
              "      <td>Female</td>\n",
              "      <td>Head of Household</td>\n",
              "      <td>Widowed</td>\n",
              "      <td>No formal education</td>\n",
              "      <td>Government Dependent</td>\n",
              "    </tr>\n",
              "    <tr>\n",
              "      <th>2</th>\n",
              "      <td>Kenya</td>\n",
              "      <td>2018</td>\n",
              "      <td>uniqueid_3</td>\n",
              "      <td>Yes</td>\n",
              "      <td>Urban</td>\n",
              "      <td>Yes</td>\n",
              "      <td>5.0</td>\n",
              "      <td>26.0</td>\n",
              "      <td>Male</td>\n",
              "      <td>Other relative</td>\n",
              "      <td>Single/Never Married</td>\n",
              "      <td>Vocational/Specialised training</td>\n",
              "      <td>Self employed</td>\n",
              "    </tr>\n",
              "    <tr>\n",
              "      <th>3</th>\n",
              "      <td>Kenya</td>\n",
              "      <td>2018</td>\n",
              "      <td>uniqueid_4</td>\n",
              "      <td>No</td>\n",
              "      <td>Rural</td>\n",
              "      <td>Yes</td>\n",
              "      <td>5.0</td>\n",
              "      <td>34.0</td>\n",
              "      <td>Female</td>\n",
              "      <td>Head of Household</td>\n",
              "      <td>Married/Living together</td>\n",
              "      <td>Primary education</td>\n",
              "      <td>Formally employed Private</td>\n",
              "    </tr>\n",
              "    <tr>\n",
              "      <th>4</th>\n",
              "      <td>Kenya</td>\n",
              "      <td>2018</td>\n",
              "      <td>uniqueid_5</td>\n",
              "      <td>No</td>\n",
              "      <td>Urban</td>\n",
              "      <td>No</td>\n",
              "      <td>8.0</td>\n",
              "      <td>26.0</td>\n",
              "      <td>Male</td>\n",
              "      <td>Child</td>\n",
              "      <td>Single/Never Married</td>\n",
              "      <td>Primary education</td>\n",
              "      <td>Informally employed</td>\n",
              "    </tr>\n",
              "  </tbody>\n",
              "</table>\n",
              "</div>"
            ],
            "text/plain": [
              "  country  year  ...              Level of Educuation                Type of Job\n",
              "0   Kenya  2018  ...              Secondary education              Self employed\n",
              "1   Kenya  2018  ...              No formal education       Government Dependent\n",
              "2   Kenya  2018  ...  Vocational/Specialised training              Self employed\n",
              "3   Kenya  2018  ...                Primary education  Formally employed Private\n",
              "4   Kenya  2018  ...                Primary education        Informally employed\n",
              "\n",
              "[5 rows x 13 columns]"
            ]
          },
          "metadata": {},
          "execution_count": 11
        }
      ]
    },
    {
      "cell_type": "code",
      "metadata": {
        "colab": {
          "base_uri": "https://localhost:8080/",
          "height": 326
        },
        "id": "6We1UkjWSH12",
        "outputId": "4e812091-71bd-4be3-9957-5c0b6073b62c"
      },
      "source": [
        "# Loading the Train.csv data\n",
        "# Define a function to load the dataset\n",
        "\n",
        "def load(file):\n",
        "  data = pd.read_csv(file)\n",
        "  return data\n",
        "EA_data=load(\"/content/Train.csv\")\n",
        "EA_data.head()"
      ],
      "execution_count": 3,
      "outputs": [
        {
          "output_type": "execute_result",
          "data": {
            "text/html": [
              "<div>\n",
              "<style scoped>\n",
              "    .dataframe tbody tr th:only-of-type {\n",
              "        vertical-align: middle;\n",
              "    }\n",
              "\n",
              "    .dataframe tbody tr th {\n",
              "        vertical-align: top;\n",
              "    }\n",
              "\n",
              "    .dataframe thead th {\n",
              "        text-align: right;\n",
              "    }\n",
              "</style>\n",
              "<table border=\"1\" class=\"dataframe\">\n",
              "  <thead>\n",
              "    <tr style=\"text-align: right;\">\n",
              "      <th></th>\n",
              "      <th>country</th>\n",
              "      <th>year</th>\n",
              "      <th>uniqueid</th>\n",
              "      <th>bank_account</th>\n",
              "      <th>location_type</th>\n",
              "      <th>cellphone_access</th>\n",
              "      <th>household_size</th>\n",
              "      <th>age_of_respondent</th>\n",
              "      <th>gender_of_respondent</th>\n",
              "      <th>relationship_with_head</th>\n",
              "      <th>marital_status</th>\n",
              "      <th>education_level</th>\n",
              "      <th>job_type</th>\n",
              "    </tr>\n",
              "  </thead>\n",
              "  <tbody>\n",
              "    <tr>\n",
              "      <th>0</th>\n",
              "      <td>Kenya</td>\n",
              "      <td>2018</td>\n",
              "      <td>uniqueid_1</td>\n",
              "      <td>Yes</td>\n",
              "      <td>Rural</td>\n",
              "      <td>Yes</td>\n",
              "      <td>3</td>\n",
              "      <td>24</td>\n",
              "      <td>Female</td>\n",
              "      <td>Spouse</td>\n",
              "      <td>Married/Living together</td>\n",
              "      <td>Secondary education</td>\n",
              "      <td>Self employed</td>\n",
              "    </tr>\n",
              "    <tr>\n",
              "      <th>1</th>\n",
              "      <td>Kenya</td>\n",
              "      <td>2018</td>\n",
              "      <td>uniqueid_2</td>\n",
              "      <td>No</td>\n",
              "      <td>Rural</td>\n",
              "      <td>No</td>\n",
              "      <td>5</td>\n",
              "      <td>70</td>\n",
              "      <td>Female</td>\n",
              "      <td>Head of Household</td>\n",
              "      <td>Widowed</td>\n",
              "      <td>No formal education</td>\n",
              "      <td>Government Dependent</td>\n",
              "    </tr>\n",
              "    <tr>\n",
              "      <th>2</th>\n",
              "      <td>Kenya</td>\n",
              "      <td>2018</td>\n",
              "      <td>uniqueid_3</td>\n",
              "      <td>Yes</td>\n",
              "      <td>Urban</td>\n",
              "      <td>Yes</td>\n",
              "      <td>5</td>\n",
              "      <td>26</td>\n",
              "      <td>Male</td>\n",
              "      <td>Other relative</td>\n",
              "      <td>Single/Never Married</td>\n",
              "      <td>Vocational/Specialised training</td>\n",
              "      <td>Self employed</td>\n",
              "    </tr>\n",
              "    <tr>\n",
              "      <th>3</th>\n",
              "      <td>Kenya</td>\n",
              "      <td>2018</td>\n",
              "      <td>uniqueid_4</td>\n",
              "      <td>No</td>\n",
              "      <td>Rural</td>\n",
              "      <td>Yes</td>\n",
              "      <td>5</td>\n",
              "      <td>34</td>\n",
              "      <td>Female</td>\n",
              "      <td>Head of Household</td>\n",
              "      <td>Married/Living together</td>\n",
              "      <td>Primary education</td>\n",
              "      <td>Formally employed Private</td>\n",
              "    </tr>\n",
              "    <tr>\n",
              "      <th>4</th>\n",
              "      <td>Kenya</td>\n",
              "      <td>2018</td>\n",
              "      <td>uniqueid_5</td>\n",
              "      <td>No</td>\n",
              "      <td>Urban</td>\n",
              "      <td>No</td>\n",
              "      <td>8</td>\n",
              "      <td>26</td>\n",
              "      <td>Male</td>\n",
              "      <td>Child</td>\n",
              "      <td>Single/Never Married</td>\n",
              "      <td>Primary education</td>\n",
              "      <td>Informally employed</td>\n",
              "    </tr>\n",
              "  </tbody>\n",
              "</table>\n",
              "</div>"
            ],
            "text/plain": [
              "  country  year  ...                  education_level                   job_type\n",
              "0   Kenya  2018  ...              Secondary education              Self employed\n",
              "1   Kenya  2018  ...              No formal education       Government Dependent\n",
              "2   Kenya  2018  ...  Vocational/Specialised training              Self employed\n",
              "3   Kenya  2018  ...                Primary education  Formally employed Private\n",
              "4   Kenya  2018  ...                Primary education        Informally employed\n",
              "\n",
              "[5 rows x 13 columns]"
            ]
          },
          "metadata": {},
          "execution_count": 3
        }
      ]
    },
    {
      "cell_type": "markdown",
      "metadata": {
        "id": "18seQTJdsZFb"
      },
      "source": [
        "#**3. Checking the Data**"
      ]
    },
    {
      "cell_type": "code",
      "metadata": {
        "id": "1VGxTnD8VLNG"
      },
      "source": [
        "# Defining a function to return the shape, info,size and columns\n",
        "#  of the dataframe\n",
        "\n",
        "\n",
        "def info(data):\n",
        "  s = data.shape \n",
        "  i = data.info \n",
        "  z = data.size\n",
        "  c = data.columns\n",
        "  return (s, i, z, c)\n"
      ],
      "execution_count": 12,
      "outputs": []
    },
    {
      "cell_type": "code",
      "metadata": {
        "colab": {
          "base_uri": "https://localhost:8080/"
        },
        "id": "L7IxV9E5KhQI",
        "outputId": "9f8ead23-ec9c-450c-f936-5edd88b909a5"
      },
      "source": [
        "info(df)"
      ],
      "execution_count": 13,
      "outputs": [
        {
          "output_type": "execute_result",
          "data": {
            "text/plain": [
              "((23524, 13),\n",
              " <bound method DataFrame.info of       country  year  ...              Level of Educuation                Type of Job\n",
              " 0       Kenya  2018  ...              Secondary education              Self employed\n",
              " 1       Kenya  2018  ...              No formal education       Government Dependent\n",
              " 2       Kenya  2018  ...  Vocational/Specialised training              Self employed\n",
              " 3       Kenya  2018  ...                Primary education  Formally employed Private\n",
              " 4       Kenya  2018  ...                Primary education        Informally employed\n",
              " ...       ...   ...  ...                              ...                        ...\n",
              " 23519  Uganda  2018  ...              No formal education               Other Income\n",
              " 23520  Uganda  2018  ...              Secondary education               Other Income\n",
              " 23521  Uganda  2018  ...                Primary education               Other Income\n",
              " 23522  Uganda  2018  ...              Secondary education              Self employed\n",
              " 23523  Uganda  2018  ...              Secondary education                  No Income\n",
              " \n",
              " [23524 rows x 13 columns]>,\n",
              " 305812,\n",
              " Index(['country', 'year', 'uniqueid', 'Has a Bank account', 'Type of Location',\n",
              "        'Cell Phone Access', 'household_size', 'Respondent Age',\n",
              "        'gender_of_respondent', 'The relathip with head', 'marital_status',\n",
              "        'Level of Educuation', 'Type of Job'],\n",
              "       dtype='object'))"
            ]
          },
          "metadata": {},
          "execution_count": 13
        }
      ]
    },
    {
      "cell_type": "code",
      "metadata": {
        "colab": {
          "base_uri": "https://localhost:8080/"
        },
        "id": "4V0n7QsnYtVE",
        "outputId": "fe6c8637-404d-4dd8-8c4a-e7d02eee262b"
      },
      "source": [
        "info(EA_data)"
      ],
      "execution_count": 5,
      "outputs": [
        {
          "output_type": "execute_result",
          "data": {
            "text/plain": [
              "((23524, 13),\n",
              " <bound method DataFrame.info of       country  year  ...                  education_level                   job_type\n",
              " 0       Kenya  2018  ...              Secondary education              Self employed\n",
              " 1       Kenya  2018  ...              No formal education       Government Dependent\n",
              " 2       Kenya  2018  ...  Vocational/Specialised training              Self employed\n",
              " 3       Kenya  2018  ...                Primary education  Formally employed Private\n",
              " 4       Kenya  2018  ...                Primary education        Informally employed\n",
              " ...       ...   ...  ...                              ...                        ...\n",
              " 23519  Uganda  2018  ...              No formal education               Other Income\n",
              " 23520  Uganda  2018  ...              Secondary education               Other Income\n",
              " 23521  Uganda  2018  ...                Primary education               Other Income\n",
              " 23522  Uganda  2018  ...              Secondary education              Self employed\n",
              " 23523  Uganda  2018  ...              Secondary education                  No Income\n",
              " \n",
              " [23524 rows x 13 columns]>,\n",
              " 305812,\n",
              " Index(['country', 'year', 'uniqueid', 'bank_account', 'location_type',\n",
              "        'cellphone_access', 'household_size', 'age_of_respondent',\n",
              "        'gender_of_respondent', 'relationship_with_head', 'marital_status',\n",
              "        'education_level', 'job_type'],\n",
              "       dtype='object'))"
            ]
          },
          "metadata": {},
          "execution_count": 5
        }
      ]
    },
    {
      "cell_type": "code",
      "metadata": {
        "colab": {
          "base_uri": "https://localhost:8080/"
        },
        "id": "OJkLlHlRyMxC",
        "outputId": "548210da-a621-472c-d58e-b4bb0d2d5581"
      },
      "source": [
        "# Checking for null values in our dataset\n",
        "# Hence, the dataset has no Null values\n",
        "\n",
        "EA_data.isnull().sum()"
      ],
      "execution_count": 6,
      "outputs": [
        {
          "output_type": "execute_result",
          "data": {
            "text/plain": [
              "country                   0\n",
              "year                      0\n",
              "uniqueid                  0\n",
              "bank_account              0\n",
              "location_type             0\n",
              "cellphone_access          0\n",
              "household_size            0\n",
              "age_of_respondent         0\n",
              "gender_of_respondent      0\n",
              "relationship_with_head    0\n",
              "marital_status            0\n",
              "education_level           0\n",
              "job_type                  0\n",
              "dtype: int64"
            ]
          },
          "metadata": {},
          "execution_count": 6
        }
      ]
    },
    {
      "cell_type": "code",
      "metadata": {
        "colab": {
          "base_uri": "https://localhost:8080/"
        },
        "id": "YKyI5GRAKl2g",
        "outputId": "0b04fe96-cd41-46a2-974f-63755babca0c"
      },
      "source": [
        "df.isnull().sum()"
      ],
      "execution_count": 14,
      "outputs": [
        {
          "output_type": "execute_result",
          "data": {
            "text/plain": [
              "country                   14\n",
              "year                       0\n",
              "uniqueid                   0\n",
              "Has a Bank account        36\n",
              "Type of Location          15\n",
              "Cell Phone Access         11\n",
              "household_size            28\n",
              "Respondent Age            34\n",
              "gender_of_respondent      34\n",
              "The relathip with head     4\n",
              "marital_status            32\n",
              "Level of Educuation       29\n",
              "Type of Job               30\n",
              "dtype: int64"
            ]
          },
          "metadata": {},
          "execution_count": 14
        }
      ]
    },
    {
      "cell_type": "code",
      "metadata": {
        "colab": {
          "base_uri": "https://localhost:8080/",
          "height": 309
        },
        "id": "1KXj0bzLyPFy",
        "outputId": "c7e14314-df8a-4391-b340-a2b67a7e772c"
      },
      "source": [
        "# Previewing the bottom of our dataset\n",
        "# \n",
        "\n",
        "EA_data.tail()"
      ],
      "execution_count": 10,
      "outputs": [
        {
          "output_type": "execute_result",
          "data": {
            "text/html": [
              "<div>\n",
              "<style scoped>\n",
              "    .dataframe tbody tr th:only-of-type {\n",
              "        vertical-align: middle;\n",
              "    }\n",
              "\n",
              "    .dataframe tbody tr th {\n",
              "        vertical-align: top;\n",
              "    }\n",
              "\n",
              "    .dataframe thead th {\n",
              "        text-align: right;\n",
              "    }\n",
              "</style>\n",
              "<table border=\"1\" class=\"dataframe\">\n",
              "  <thead>\n",
              "    <tr style=\"text-align: right;\">\n",
              "      <th></th>\n",
              "      <th>country</th>\n",
              "      <th>year</th>\n",
              "      <th>uniqueid</th>\n",
              "      <th>bank_account</th>\n",
              "      <th>location_type</th>\n",
              "      <th>cellphone_access</th>\n",
              "      <th>household_size</th>\n",
              "      <th>age_of_respondent</th>\n",
              "      <th>gender_of_respondent</th>\n",
              "      <th>relationship_with_head</th>\n",
              "      <th>marital_status</th>\n",
              "      <th>education_level</th>\n",
              "      <th>job_type</th>\n",
              "    </tr>\n",
              "  </thead>\n",
              "  <tbody>\n",
              "    <tr>\n",
              "      <th>23519</th>\n",
              "      <td>Uganda</td>\n",
              "      <td>2018</td>\n",
              "      <td>uniqueid_2113</td>\n",
              "      <td>No</td>\n",
              "      <td>Rural</td>\n",
              "      <td>Yes</td>\n",
              "      <td>4</td>\n",
              "      <td>48</td>\n",
              "      <td>Female</td>\n",
              "      <td>Head of Household</td>\n",
              "      <td>Divorced/Seperated</td>\n",
              "      <td>No formal education</td>\n",
              "      <td>Other Income</td>\n",
              "    </tr>\n",
              "    <tr>\n",
              "      <th>23520</th>\n",
              "      <td>Uganda</td>\n",
              "      <td>2018</td>\n",
              "      <td>uniqueid_2114</td>\n",
              "      <td>No</td>\n",
              "      <td>Rural</td>\n",
              "      <td>Yes</td>\n",
              "      <td>2</td>\n",
              "      <td>27</td>\n",
              "      <td>Female</td>\n",
              "      <td>Head of Household</td>\n",
              "      <td>Single/Never Married</td>\n",
              "      <td>Secondary education</td>\n",
              "      <td>Other Income</td>\n",
              "    </tr>\n",
              "    <tr>\n",
              "      <th>23521</th>\n",
              "      <td>Uganda</td>\n",
              "      <td>2018</td>\n",
              "      <td>uniqueid_2115</td>\n",
              "      <td>No</td>\n",
              "      <td>Rural</td>\n",
              "      <td>Yes</td>\n",
              "      <td>5</td>\n",
              "      <td>27</td>\n",
              "      <td>Female</td>\n",
              "      <td>Parent</td>\n",
              "      <td>Widowed</td>\n",
              "      <td>Primary education</td>\n",
              "      <td>Other Income</td>\n",
              "    </tr>\n",
              "    <tr>\n",
              "      <th>23522</th>\n",
              "      <td>Uganda</td>\n",
              "      <td>2018</td>\n",
              "      <td>uniqueid_2116</td>\n",
              "      <td>No</td>\n",
              "      <td>Urban</td>\n",
              "      <td>Yes</td>\n",
              "      <td>7</td>\n",
              "      <td>30</td>\n",
              "      <td>Female</td>\n",
              "      <td>Parent</td>\n",
              "      <td>Divorced/Seperated</td>\n",
              "      <td>Secondary education</td>\n",
              "      <td>Self employed</td>\n",
              "    </tr>\n",
              "    <tr>\n",
              "      <th>23523</th>\n",
              "      <td>Uganda</td>\n",
              "      <td>2018</td>\n",
              "      <td>uniqueid_2117</td>\n",
              "      <td>No</td>\n",
              "      <td>Rural</td>\n",
              "      <td>Yes</td>\n",
              "      <td>10</td>\n",
              "      <td>20</td>\n",
              "      <td>Male</td>\n",
              "      <td>Child</td>\n",
              "      <td>Single/Never Married</td>\n",
              "      <td>Secondary education</td>\n",
              "      <td>No Income</td>\n",
              "    </tr>\n",
              "  </tbody>\n",
              "</table>\n",
              "</div>"
            ],
            "text/plain": [
              "      country  year  ...      education_level       job_type\n",
              "23519  Uganda  2018  ...  No formal education   Other Income\n",
              "23520  Uganda  2018  ...  Secondary education   Other Income\n",
              "23521  Uganda  2018  ...    Primary education   Other Income\n",
              "23522  Uganda  2018  ...  Secondary education  Self employed\n",
              "23523  Uganda  2018  ...  Secondary education      No Income\n",
              "\n",
              "[5 rows x 13 columns]"
            ]
          },
          "metadata": {},
          "execution_count": 10
        }
      ]
    },
    {
      "cell_type": "code",
      "metadata": {
        "colab": {
          "base_uri": "https://localhost:8080/",
          "height": 359
        },
        "id": "jjXlDQ2lyO7z",
        "outputId": "a0fd7175-46b5-4456-9e76-094c02f6fb17"
      },
      "source": [
        "# Checking whether each column has an appropriate datatype\n",
        "#\n",
        "\n",
        "EA_data.dtypes\n",
        "des = EA_data.describe() \n",
        " # Summary\n",
        "des_num = EA_data.describe(include=[np.number]) \n",
        "# Include only numerical columns\n",
        "des_obj = EA_data.describe(include=[np.object]) \n",
        "# Include only string columns\n",
        "des_obj.transpose()"
      ],
      "execution_count": 9,
      "outputs": [
        {
          "output_type": "execute_result",
          "data": {
            "text/html": [
              "<div>\n",
              "<style scoped>\n",
              "    .dataframe tbody tr th:only-of-type {\n",
              "        vertical-align: middle;\n",
              "    }\n",
              "\n",
              "    .dataframe tbody tr th {\n",
              "        vertical-align: top;\n",
              "    }\n",
              "\n",
              "    .dataframe thead th {\n",
              "        text-align: right;\n",
              "    }\n",
              "</style>\n",
              "<table border=\"1\" class=\"dataframe\">\n",
              "  <thead>\n",
              "    <tr style=\"text-align: right;\">\n",
              "      <th></th>\n",
              "      <th>count</th>\n",
              "      <th>unique</th>\n",
              "      <th>top</th>\n",
              "      <th>freq</th>\n",
              "    </tr>\n",
              "  </thead>\n",
              "  <tbody>\n",
              "    <tr>\n",
              "      <th>country</th>\n",
              "      <td>23524</td>\n",
              "      <td>4</td>\n",
              "      <td>Rwanda</td>\n",
              "      <td>8735</td>\n",
              "    </tr>\n",
              "    <tr>\n",
              "      <th>uniqueid</th>\n",
              "      <td>23524</td>\n",
              "      <td>8735</td>\n",
              "      <td>uniqueid_397</td>\n",
              "      <td>4</td>\n",
              "    </tr>\n",
              "    <tr>\n",
              "      <th>bank_account</th>\n",
              "      <td>23524</td>\n",
              "      <td>2</td>\n",
              "      <td>No</td>\n",
              "      <td>20212</td>\n",
              "    </tr>\n",
              "    <tr>\n",
              "      <th>location_type</th>\n",
              "      <td>23524</td>\n",
              "      <td>2</td>\n",
              "      <td>Rural</td>\n",
              "      <td>14343</td>\n",
              "    </tr>\n",
              "    <tr>\n",
              "      <th>cellphone_access</th>\n",
              "      <td>23524</td>\n",
              "      <td>2</td>\n",
              "      <td>Yes</td>\n",
              "      <td>17454</td>\n",
              "    </tr>\n",
              "    <tr>\n",
              "      <th>gender_of_respondent</th>\n",
              "      <td>23524</td>\n",
              "      <td>2</td>\n",
              "      <td>Female</td>\n",
              "      <td>13877</td>\n",
              "    </tr>\n",
              "    <tr>\n",
              "      <th>relationship_with_head</th>\n",
              "      <td>23524</td>\n",
              "      <td>6</td>\n",
              "      <td>Head of Household</td>\n",
              "      <td>12831</td>\n",
              "    </tr>\n",
              "    <tr>\n",
              "      <th>marital_status</th>\n",
              "      <td>23524</td>\n",
              "      <td>5</td>\n",
              "      <td>Married/Living together</td>\n",
              "      <td>10749</td>\n",
              "    </tr>\n",
              "    <tr>\n",
              "      <th>education_level</th>\n",
              "      <td>23524</td>\n",
              "      <td>6</td>\n",
              "      <td>Primary education</td>\n",
              "      <td>12791</td>\n",
              "    </tr>\n",
              "    <tr>\n",
              "      <th>job_type</th>\n",
              "      <td>23524</td>\n",
              "      <td>10</td>\n",
              "      <td>Self employed</td>\n",
              "      <td>6437</td>\n",
              "    </tr>\n",
              "  </tbody>\n",
              "</table>\n",
              "</div>"
            ],
            "text/plain": [
              "                        count unique                      top   freq\n",
              "country                 23524      4                   Rwanda   8735\n",
              "uniqueid                23524   8735             uniqueid_397      4\n",
              "bank_account            23524      2                       No  20212\n",
              "location_type           23524      2                    Rural  14343\n",
              "cellphone_access        23524      2                      Yes  17454\n",
              "gender_of_respondent    23524      2                   Female  13877\n",
              "relationship_with_head  23524      6        Head of Household  12831\n",
              "marital_status          23524      5  Married/Living together  10749\n",
              "education_level         23524      6        Primary education  12791\n",
              "job_type                23524     10            Self employed   6437"
            ]
          },
          "metadata": {},
          "execution_count": 9
        }
      ]
    },
    {
      "cell_type": "code",
      "metadata": {
        "colab": {
          "base_uri": "https://localhost:8080/"
        },
        "id": "RrnZmxGEK1A2",
        "outputId": "7ff340ab-4f26-417d-80fb-2088e67fb798"
      },
      "source": [
        "# Checking whether each column has an appropriate datatype\n",
        "df.dtypes"
      ],
      "execution_count": 15,
      "outputs": [
        {
          "output_type": "execute_result",
          "data": {
            "text/plain": [
              "country                    object\n",
              "year                        int64\n",
              "uniqueid                   object\n",
              "Has a Bank account         object\n",
              "Type of Location           object\n",
              "Cell Phone Access          object\n",
              "household_size            float64\n",
              "Respondent Age            float64\n",
              "gender_of_respondent       object\n",
              "The relathip with head     object\n",
              "marital_status             object\n",
              "Level of Educuation        object\n",
              "Type of Job                object\n",
              "dtype: object"
            ]
          },
          "metadata": {},
          "execution_count": 15
        }
      ]
    },
    {
      "cell_type": "code",
      "metadata": {
        "colab": {
          "base_uri": "https://localhost:8080/",
          "height": 297
        },
        "id": "bxEXRafJLLGL",
        "outputId": "7e8f8afc-e667-4a78-eee3-6330d5612d5c"
      },
      "source": [
        "\n",
        "#Check for basic descriptive statistics for the numeric columns\n",
        "df.describe()"
      ],
      "execution_count": 16,
      "outputs": [
        {
          "output_type": "execute_result",
          "data": {
            "text/html": [
              "<div>\n",
              "<style scoped>\n",
              "    .dataframe tbody tr th:only-of-type {\n",
              "        vertical-align: middle;\n",
              "    }\n",
              "\n",
              "    .dataframe tbody tr th {\n",
              "        vertical-align: top;\n",
              "    }\n",
              "\n",
              "    .dataframe thead th {\n",
              "        text-align: right;\n",
              "    }\n",
              "</style>\n",
              "<table border=\"1\" class=\"dataframe\">\n",
              "  <thead>\n",
              "    <tr style=\"text-align: right;\">\n",
              "      <th></th>\n",
              "      <th>year</th>\n",
              "      <th>household_size</th>\n",
              "      <th>Respondent Age</th>\n",
              "    </tr>\n",
              "  </thead>\n",
              "  <tbody>\n",
              "    <tr>\n",
              "      <th>count</th>\n",
              "      <td>23524.000000</td>\n",
              "      <td>23496.000000</td>\n",
              "      <td>23490.000000</td>\n",
              "    </tr>\n",
              "    <tr>\n",
              "      <th>mean</th>\n",
              "      <td>2016.979000</td>\n",
              "      <td>3.681818</td>\n",
              "      <td>38.804300</td>\n",
              "    </tr>\n",
              "    <tr>\n",
              "      <th>std</th>\n",
              "      <td>0.899669</td>\n",
              "      <td>2.279933</td>\n",
              "      <td>16.519996</td>\n",
              "    </tr>\n",
              "    <tr>\n",
              "      <th>min</th>\n",
              "      <td>2016.000000</td>\n",
              "      <td>0.000000</td>\n",
              "      <td>16.000000</td>\n",
              "    </tr>\n",
              "    <tr>\n",
              "      <th>25%</th>\n",
              "      <td>2016.000000</td>\n",
              "      <td>2.000000</td>\n",
              "      <td>26.000000</td>\n",
              "    </tr>\n",
              "    <tr>\n",
              "      <th>50%</th>\n",
              "      <td>2017.000000</td>\n",
              "      <td>3.000000</td>\n",
              "      <td>35.000000</td>\n",
              "    </tr>\n",
              "    <tr>\n",
              "      <th>75%</th>\n",
              "      <td>2018.000000</td>\n",
              "      <td>5.000000</td>\n",
              "      <td>49.000000</td>\n",
              "    </tr>\n",
              "    <tr>\n",
              "      <th>max</th>\n",
              "      <td>2056.000000</td>\n",
              "      <td>21.000000</td>\n",
              "      <td>100.000000</td>\n",
              "    </tr>\n",
              "  </tbody>\n",
              "</table>\n",
              "</div>"
            ],
            "text/plain": [
              "               year  household_size  Respondent Age\n",
              "count  23524.000000    23496.000000    23490.000000\n",
              "mean    2016.979000        3.681818       38.804300\n",
              "std        0.899669        2.279933       16.519996\n",
              "min     2016.000000        0.000000       16.000000\n",
              "25%     2016.000000        2.000000       26.000000\n",
              "50%     2017.000000        3.000000       35.000000\n",
              "75%     2018.000000        5.000000       49.000000\n",
              "max     2056.000000       21.000000      100.000000"
            ]
          },
          "metadata": {},
          "execution_count": 16
        }
      ]
    },
    {
      "cell_type": "markdown",
      "metadata": {
        "id": "oXZKsq3AsqFx"
      },
      "source": [
        "#**4. External Data Source Validation**"
      ]
    },
    {
      "cell_type": "markdown",
      "metadata": {
        "id": "TjOUIBLvsvvS"
      },
      "source": [
        "#**5. Tidying the Dataset**"
      ]
    },
    {
      "cell_type": "code",
      "metadata": {
        "colab": {
          "base_uri": "https://localhost:8080/",
          "height": 296
        },
        "id": "f1x9HGWFtZAJ",
        "outputId": "2d76a086-3f13-48a3-d5cd-86cbe92f7f46"
      },
      "source": [
        "# Checking for Outliers\n",
        "\n",
        "#For the year column\n",
        "sns.boxplot(x=df['year'])\n",
        "#Therefore the 3 points shown outside the boxplot are the outliers"
      ],
      "execution_count": 18,
      "outputs": [
        {
          "output_type": "execute_result",
          "data": {
            "text/plain": [
              "<matplotlib.axes._subplots.AxesSubplot at 0x7f5348129450>"
            ]
          },
          "metadata": {},
          "execution_count": 18
        },
        {
          "output_type": "display_data",
          "data": {
            "image/png": "[encoded data removed]",
            "text/plain": [
              "<Figure size 432x288 with 1 Axes>"
            ]
          },
          "metadata": {
            "needs_background": "light"
          }
        }
      ]
    },
    {
      "cell_type": "code",
      "metadata": {
        "colab": {
          "base_uri": "https://localhost:8080/"
        },
        "id": "aXKDGfATWZwD",
        "outputId": "310da211-d0f5-4022-ab02-66f9fcf56d31"
      },
      "source": [
        "#Remove the outliers in the year column\n",
        "outliers = df[df['year'] > 2018].index\n",
        "df.drop(outliers , inplace=True)\n",
        "df.shape"
      ],
      "execution_count": 19,
      "outputs": [
        {
          "output_type": "execute_result",
          "data": {
            "text/plain": [
              "(23521, 13)"
            ]
          },
          "metadata": {},
          "execution_count": 19
        }
      ]
    },
    {
      "cell_type": "code",
      "metadata": {
        "colab": {
          "base_uri": "https://localhost:8080/",
          "height": 296
        },
        "id": "8XoyRplYWtic",
        "outputId": "a07bbd41-1e76-41b3-d7ec-e6960a51d517"
      },
      "source": [
        "#Checking for outliers in the column age\n",
        "sns.boxplot(x=df['Respondent Age'])\n",
        "#From output, there are a number of outliers for ages between 80 to 100"
      ],
      "execution_count": 21,
      "outputs": [
        {
          "output_type": "execute_result",
          "data": {
            "text/plain": [
              "<matplotlib.axes._subplots.AxesSubplot at 0x7f53476f9990>"
            ]
          },
          "metadata": {},
          "execution_count": 21
        },
        {
          "output_type": "display_data",
          "data": {
            "image/png": "[encoded data removed]",
            "text/plain": [
              "<Figure size 432x288 with 1 Axes>"
            ]
          },
          "metadata": {
            "needs_background": "light"
          }
        }
      ]
    },
    {
      "cell_type": "code",
      "metadata": {
        "colab": {
          "base_uri": "https://localhost:8080/",
          "height": 297
        },
        "id": "-E6cOWnrW17F",
        "outputId": "7549aab1-2825-4ec0-ef32-525f1405e658"
      },
      "source": [
        "\n",
        "#Checking for outliers in the household size column\n",
        "sns.boxplot(x=df['household_size'])\n",
        "#From output, we can conclude that their are a few families with a household \n",
        "#size of between 10 and 21"
      ],
      "execution_count": 23,
      "outputs": [
        {
          "output_type": "execute_result",
          "data": {
            "text/plain": [
              "<matplotlib.axes._subplots.AxesSubplot at 0x7f53476e1450>"
            ]
          },
          "metadata": {},
          "execution_count": 23
        },
        {
          "output_type": "display_data",
          "data": {
            "image/png": "[encoded data removed]",
            "text/plain": [
              "<Figure size 432x288 with 1 Axes>"
            ]
          },
          "metadata": {
            "needs_background": "light"
          }
        }
      ]
    },
    {
      "cell_type": "code",
      "metadata": {
        "colab": {
          "base_uri": "https://localhost:8080/"
        },
        "id": "EWQF1_rJtYp5",
        "outputId": "69cdc21a-5d7a-4c4b-8253-9de7128f4d7d"
      },
      "source": [
        "# Checking for Anomalies\n",
        "#\n",
        "df['household_size'].unique()"
      ],
      "execution_count": 24,
      "outputs": [
        {
          "output_type": "execute_result",
          "data": {
            "text/plain": [
              "array([ 3.,  5.,  8.,  7.,  1.,  6.,  4., 10.,  2., 11.,  9., 12., 16.,\n",
              "       15., 13., 14., 21., nan,  0., 18., 17., 20.])"
            ]
          },
          "metadata": {},
          "execution_count": 24
        }
      ]
    },
    {
      "cell_type": "code",
      "metadata": {
        "colab": {
          "base_uri": "https://localhost:8080/"
        },
        "id": "nA4BQ8TxaWOK",
        "outputId": "a0832738-48c2-4dd9-f13a-d7b50167c571"
      },
      "source": [
        "#Removing the outliers/anomalies using percentile\n",
        "max_threshold = df['household_size'].quantile(0.95)\n",
        "print(max_threshold)\n",
        "df2 = df[df['household_size']<= max_threshold]\n",
        "print(df2.shape)\n",
        "print(df2.describe())\n",
        "print(df2['household_size'].unique())"
      ],
      "execution_count": 26,
      "outputs": [
        {
          "output_type": "stream",
          "name": "stdout",
          "text": [
            "8.0\n",
            "(22760, 13)\n",
            "               year  household_size  Respondent Age\n",
            "count  22760.000000    22760.000000    22735.000000\n",
            "mean    2016.964938        3.475264       38.902661\n",
            "std        0.842019        1.979997       16.563180\n",
            "min     2016.000000        0.000000       16.000000\n",
            "25%     2016.000000        2.000000       26.000000\n",
            "50%     2017.000000        3.000000       35.000000\n",
            "75%     2018.000000        5.000000       49.000000\n",
            "max     2018.000000        8.000000      100.000000\n",
            "[3. 5. 8. 7. 1. 6. 4. 2. 0.]\n"
          ]
        }
      ]
    },
    {
      "cell_type": "code",
      "metadata": {
        "colab": {
          "base_uri": "https://localhost:8080/",
          "height": 377
        },
        "id": "kOszCFgoaqNG",
        "outputId": "b7b73869-0a6a-4985-a7c8-89de77e2b31f"
      },
      "source": [
        "#Resetting indexes for new dataframe \n",
        "df2.reset_index().head()"
      ],
      "execution_count": 27,
      "outputs": [
        {
          "output_type": "execute_result",
          "data": {
            "text/html": [
              "<div>\n",
              "<style scoped>\n",
              "    .dataframe tbody tr th:only-of-type {\n",
              "        vertical-align: middle;\n",
              "    }\n",
              "\n",
              "    .dataframe tbody tr th {\n",
              "        vertical-align: top;\n",
              "    }\n",
              "\n",
              "    .dataframe thead th {\n",
              "        text-align: right;\n",
              "    }\n",
              "</style>\n",
              "<table border=\"1\" class=\"dataframe\">\n",
              "  <thead>\n",
              "    <tr style=\"text-align: right;\">\n",
              "      <th></th>\n",
              "      <th>index</th>\n",
              "      <th>country</th>\n",
              "      <th>year</th>\n",
              "      <th>uniqueid</th>\n",
              "      <th>Has a Bank account</th>\n",
              "      <th>Type of Location</th>\n",
              "      <th>Cell Phone Access</th>\n",
              "      <th>household_size</th>\n",
              "      <th>Respondent Age</th>\n",
              "      <th>gender_of_respondent</th>\n",
              "      <th>The relathip with head</th>\n",
              "      <th>marital_status</th>\n",
              "      <th>Level of Educuation</th>\n",
              "      <th>Type of Job</th>\n",
              "    </tr>\n",
              "  </thead>\n",
              "  <tbody>\n",
              "    <tr>\n",
              "      <th>0</th>\n",
              "      <td>0</td>\n",
              "      <td>Kenya</td>\n",
              "      <td>2018</td>\n",
              "      <td>uniqueid_1</td>\n",
              "      <td>Yes</td>\n",
              "      <td>Rural</td>\n",
              "      <td>Yes</td>\n",
              "      <td>3.0</td>\n",
              "      <td>24.0</td>\n",
              "      <td>Female</td>\n",
              "      <td>Spouse</td>\n",
              "      <td>Married/Living together</td>\n",
              "      <td>Secondary education</td>\n",
              "      <td>Self employed</td>\n",
              "    </tr>\n",
              "    <tr>\n",
              "      <th>1</th>\n",
              "      <td>1</td>\n",
              "      <td>Kenya</td>\n",
              "      <td>2018</td>\n",
              "      <td>uniqueid_2</td>\n",
              "      <td>No</td>\n",
              "      <td>Rural</td>\n",
              "      <td>No</td>\n",
              "      <td>5.0</td>\n",
              "      <td>70.0</td>\n",
              "      <td>Female</td>\n",
              "      <td>Head of Household</td>\n",
              "      <td>Widowed</td>\n",
              "      <td>No formal education</td>\n",
              "      <td>Government Dependent</td>\n",
              "    </tr>\n",
              "    <tr>\n",
              "      <th>2</th>\n",
              "      <td>2</td>\n",
              "      <td>Kenya</td>\n",
              "      <td>2018</td>\n",
              "      <td>uniqueid_3</td>\n",
              "      <td>Yes</td>\n",
              "      <td>Urban</td>\n",
              "      <td>Yes</td>\n",
              "      <td>5.0</td>\n",
              "      <td>26.0</td>\n",
              "      <td>Male</td>\n",
              "      <td>Other relative</td>\n",
              "      <td>Single/Never Married</td>\n",
              "      <td>Vocational/Specialised training</td>\n",
              "      <td>Self employed</td>\n",
              "    </tr>\n",
              "    <tr>\n",
              "      <th>3</th>\n",
              "      <td>3</td>\n",
              "      <td>Kenya</td>\n",
              "      <td>2018</td>\n",
              "      <td>uniqueid_4</td>\n",
              "      <td>No</td>\n",
              "      <td>Rural</td>\n",
              "      <td>Yes</td>\n",
              "      <td>5.0</td>\n",
              "      <td>34.0</td>\n",
              "      <td>Female</td>\n",
              "      <td>Head of Household</td>\n",
              "      <td>Married/Living together</td>\n",
              "      <td>Primary education</td>\n",
              "      <td>Formally employed Private</td>\n",
              "    </tr>\n",
              "    <tr>\n",
              "      <th>4</th>\n",
              "      <td>4</td>\n",
              "      <td>Kenya</td>\n",
              "      <td>2018</td>\n",
              "      <td>uniqueid_5</td>\n",
              "      <td>No</td>\n",
              "      <td>Urban</td>\n",
              "      <td>No</td>\n",
              "      <td>8.0</td>\n",
              "      <td>26.0</td>\n",
              "      <td>Male</td>\n",
              "      <td>Child</td>\n",
              "      <td>Single/Never Married</td>\n",
              "      <td>Primary education</td>\n",
              "      <td>Informally employed</td>\n",
              "    </tr>\n",
              "  </tbody>\n",
              "</table>\n",
              "</div>"
            ],
            "text/plain": [
              "   index country  ...              Level of Educuation                Type of Job\n",
              "0      0   Kenya  ...              Secondary education              Self employed\n",
              "1      1   Kenya  ...              No formal education       Government Dependent\n",
              "2      2   Kenya  ...  Vocational/Specialised training              Self employed\n",
              "3      3   Kenya  ...                Primary education  Formally employed Private\n",
              "4      4   Kenya  ...                Primary education        Informally employed\n",
              "\n",
              "[5 rows x 14 columns]"
            ]
          },
          "metadata": {},
          "execution_count": 27
        }
      ]
    },
    {
      "cell_type": "code",
      "metadata": {
        "colab": {
          "base_uri": "https://localhost:8080/"
        },
        "id": "Ygu7EaBBa7ai",
        "outputId": "bce2b6c5-5319-45c9-b6db-8c9b9e11eab3"
      },
      "source": [
        "#Changing column names\n",
        "df2.rename(columns={'Has a Bank account':'bank_acc',\n",
        "                          'Type of Location':'residence', 'Respondent Age' : 'age', 'gender_of_respondent':'gender',\n",
        "                          'Level of Educuation':'education', 'Type of Job': 'job'}, \n",
        "                 inplace=True)\n",
        "df2.columns"
      ],
      "execution_count": 28,
      "outputs": [
        {
          "output_type": "stream",
          "name": "stderr",
          "text": [
            "/usr/local/lib/python3.7/dist-packages/pandas/core/frame.py:4308: SettingWithCopyWarning: \n",
            "A value is trying to be set on a copy of a slice from a DataFrame\n",
            "\n",
            "See the caveats in the documentation: https://pandas.pydata.org/pandas-docs/stable/user_guide/indexing.html#returning-a-view-versus-a-copy\n",
            "  errors=errors,\n"
          ]
        },
        {
          "output_type": "execute_result",
          "data": {
            "text/plain": [
              "Index(['country', 'year', 'uniqueid', 'bank_acc', 'residence',\n",
              "       'Cell Phone Access', 'household_size', 'age', 'gender',\n",
              "       'The relathip with head', 'marital_status', 'education', 'job'],\n",
              "      dtype='object')"
            ]
          },
          "metadata": {},
          "execution_count": 28
        }
      ]
    },
    {
      "cell_type": "code",
      "metadata": {
        "colab": {
          "base_uri": "https://localhost:8080/"
        },
        "id": "hoLFnIG3bH4R",
        "outputId": "a85edc50-d045-4ad1-df63-14b10ed5de46"
      },
      "source": [
        "#Dropping unnecessary columns\n",
        "df2 = df2.drop(['uniqueid', 'Cell Phone Access', 'The relathip with head', 'marital_status'], axis = 1)\n",
        "print(df2.columns)"
      ],
      "execution_count": 29,
      "outputs": [
        {
          "output_type": "stream",
          "name": "stdout",
          "text": [
            "Index(['country', 'year', 'bank_acc', 'residence', 'household_size', 'age',\n",
            "       'gender', 'education', 'job'],\n",
            "      dtype='object')\n"
          ]
        }
      ]
    },
    {
      "cell_type": "code",
      "metadata": {
        "colab": {
          "base_uri": "https://localhost:8080/"
        },
        "id": "YB-dW3h0tYgR",
        "outputId": "1ff03e94-4ef7-4039-c067-78a81992474b"
      },
      "source": [
        "# Identifying the Missing Data\n",
        "#\n",
        "df2.isnull().sum()"
      ],
      "execution_count": 30,
      "outputs": [
        {
          "output_type": "execute_result",
          "data": {
            "text/plain": [
              "country           14\n",
              "year               0\n",
              "bank_acc          36\n",
              "residence         15\n",
              "household_size     0\n",
              "age               25\n",
              "gender            29\n",
              "education         28\n",
              "job               29\n",
              "dtype: int64"
            ]
          },
          "metadata": {},
          "execution_count": 30
        }
      ]
    },
    {
      "cell_type": "code",
      "metadata": {
        "colab": {
          "base_uri": "https://localhost:8080/"
        },
        "id": "hpn8rXnLtYYx",
        "outputId": "daea42b0-7839-44fe-e815-945ab10bd30c"
      },
      "source": [
        "# Dealing with the Missing Data\n",
        "#\n",
        "#Removing all rows where having a bank account is null\n",
        "df3 = df2[df2['bank_acc'].notna()] \n",
        "df3.shape\n",
        "df3 = df3.reset_index(drop = True) \n",
        "#Drop all columns where value is NaN\n",
        "df3 = df3[df3['gender'].notna()] \n",
        "print(df3.shape)\n",
        "#data3.isnull().sum()\n",
        "df_df = df3.dropna(axis=0, inplace=False)\n",
        "df_df.isnull().sum()"
      ],
      "execution_count": 31,
      "outputs": [
        {
          "output_type": "stream",
          "name": "stdout",
          "text": [
            "(22695, 9)\n"
          ]
        },
        {
          "output_type": "execute_result",
          "data": {
            "text/plain": [
              "country           0\n",
              "year              0\n",
              "bank_acc          0\n",
              "residence         0\n",
              "household_size    0\n",
              "age               0\n",
              "gender            0\n",
              "education         0\n",
              "job               0\n",
              "dtype: int64"
            ]
          },
          "metadata": {},
          "execution_count": 31
        }
      ]
    },
    {
      "cell_type": "code",
      "metadata": {
        "colab": {
          "base_uri": "https://localhost:8080/"
        },
        "id": "FW-lvhKMcPq6",
        "outputId": "b4a55842-2921-431c-d25e-e038c78defd0"
      },
      "source": [
        "#Check for duplicates \n",
        "df_df = df_df.drop_duplicates(inplace=False)\n",
        "df_df.shape"
      ],
      "execution_count": 32,
      "outputs": [
        {
          "output_type": "execute_result",
          "data": {
            "text/plain": [
              "(14834, 9)"
            ]
          },
          "metadata": {},
          "execution_count": 32
        }
      ]
    },
    {
      "cell_type": "code",
      "metadata": {
        "colab": {
          "base_uri": "https://localhost:8080/"
        },
        "id": "G7xGeIBQc0ET",
        "outputId": "de59240c-e21a-443c-fd0a-ec0bf96233f1"
      },
      "source": [
        "#Converting datatypes\n",
        "#convert column year from int64 to datetime and residence to category\n",
        "df_df['country'] = df_df['country'].astype('category')\n",
        "df_df['bank_acc'] = df_df['bank_acc'].astype('category')\n",
        "df_df['residence'] = df_df['residence'].astype('category')\n",
        "df_df['gender'] = df_df['gender'].astype('category')\n",
        "df_df['education'] = df_df['education'].astype('category')\n",
        "df_df['year']= pd.to_datetime(df_df['year']) \n",
        "df_df['job'] = df_df['job'].astype('category')\n",
        "df_df.info()"
      ],
      "execution_count": 33,
      "outputs": [
        {
          "output_type": "stream",
          "name": "stdout",
          "text": [
            "<class 'pandas.core.frame.DataFrame'>\n",
            "Int64Index: 14834 entries, 0 to 22723\n",
            "Data columns (total 9 columns):\n",
            " #   Column          Non-Null Count  Dtype         \n",
            "---  ------          --------------  -----         \n",
            " 0   country         14834 non-null  category      \n",
            " 1   year            14834 non-null  datetime64[ns]\n",
            " 2   bank_acc        14834 non-null  category      \n",
            " 3   residence       14834 non-null  category      \n",
            " 4   household_size  14834 non-null  float64       \n",
            " 5   age             14834 non-null  float64       \n",
            " 6   gender          14834 non-null  category      \n",
            " 7   education       14834 non-null  category      \n",
            " 8   job             14834 non-null  category      \n",
            "dtypes: category(6), datetime64[ns](1), float64(2)\n",
            "memory usage: 551.7 KB\n"
          ]
        }
      ]
    },
    {
      "cell_type": "code",
      "metadata": {
        "id": "bhes5lFtdRn2"
      },
      "source": [
        "mean_householdsize = df_df['household_size'].mean()\n",
        "\n",
        "df_df['household_size']=df_df.household_size.mask(df_df.household_size == 0,mean_householdsize)"
      ],
      "execution_count": 34,
      "outputs": []
    },
    {
      "cell_type": "markdown",
      "metadata": {
        "id": "piPVmQmUtS4Z"
      },
      "source": [
        "#**6. Exploratory Data Analysis**"
      ]
    },
    {
      "cell_type": "markdown",
      "metadata": {
        "id": "VSCtRGzwwTor"
      },
      "source": [
        "## a) Univariate Analysis"
      ]
    },
    {
      "cell_type": "code",
      "metadata": {
        "id": "XnOnLJcIto0j"
      },
      "source": [
        "# Ploting the univariate summaries and recording our observations\n",
        "#"
      ],
      "execution_count": null,
      "outputs": []
    },
    {
      "cell_type": "code",
      "metadata": {
        "colab": {
          "base_uri": "https://localhost:8080/"
        },
        "id": "QfL4Gsm8eVEq",
        "outputId": "a0729fd9-f341-4cd6-fe1f-11e85e2a8b2d"
      },
      "source": [
        "#Calculate measures of central tendency\n",
        "df_df.mean()\n",
        "print(df_df.mean())\n",
        "df_df.mode()\n",
        "print(df_df.mode())\n",
        "df_df.median()\n",
        "print(df_df.median())"
      ],
      "execution_count": 35,
      "outputs": [
        {
          "output_type": "stream",
          "name": "stdout",
          "text": [
            "household_size     3.616130\n",
            "age               40.245652\n",
            "dtype: float64\n",
            "  country                          year  ...          education            job\n",
            "0  Rwanda 1970-01-01 00:00:00.000002018  ...  Primary education  Self employed\n",
            "\n",
            "[1 rows x 9 columns]\n",
            "household_size     3.0\n",
            "age               36.0\n",
            "dtype: float64\n"
          ]
        },
        {
          "output_type": "stream",
          "name": "stderr",
          "text": [
            "/usr/local/lib/python3.7/dist-packages/ipykernel_launcher.py:2: FutureWarning: DataFrame.mean and DataFrame.median with numeric_only=None will include datetime64 and datetime64tz columns in a future version.\n",
            "  \n",
            "/usr/local/lib/python3.7/dist-packages/ipykernel_launcher.py:3: FutureWarning: DataFrame.mean and DataFrame.median with numeric_only=None will include datetime64 and datetime64tz columns in a future version.\n",
            "  This is separate from the ipykernel package so we can avoid doing imports until\n",
            "/usr/local/lib/python3.7/dist-packages/ipykernel_launcher.py:6: FutureWarning: DataFrame.mean and DataFrame.median with numeric_only=None will include datetime64 and datetime64tz columns in a future version.\n",
            "  \n",
            "/usr/local/lib/python3.7/dist-packages/ipykernel_launcher.py:7: FutureWarning: DataFrame.mean and DataFrame.median with numeric_only=None will include datetime64 and datetime64tz columns in a future version.\n",
            "  import sys\n"
          ]
        }
      ]
    },
    {
      "cell_type": "code",
      "metadata": {
        "colab": {
          "base_uri": "https://localhost:8080/"
        },
        "id": "Cz8L_VlLene5",
        "outputId": "92f02e7f-3be2-4b64-a5a5-ef0bf5b5e9e1"
      },
      "source": [
        "#Get min, max and range\n",
        "#for age\n",
        "min_age = df_df['age'].min()\n",
        "print(min_age)\n",
        "max_age = df_df['age'].max()\n",
        "print(max_age)\n",
        "range_age = max_age - min_age\n",
        "print(range_age)\n",
        "#For household size\n",
        "min_size = df_df['household_size'].min()\n",
        "print(min_size)\n",
        "max_size = df_df['household_size'].max()\n",
        "print(max_size)\n",
        "range_size = max_size - min_size\n",
        "print(range_size)"
      ],
      "execution_count": 36,
      "outputs": [
        {
          "output_type": "stream",
          "name": "stdout",
          "text": [
            "16.0\n",
            "100.0\n",
            "84.0\n",
            "1.0\n",
            "8.0\n",
            "7.0\n"
          ]
        }
      ]
    },
    {
      "cell_type": "code",
      "metadata": {
        "colab": {
          "base_uri": "https://localhost:8080/"
        },
        "id": "TKTS764MfLdO",
        "outputId": "6f675bc6-69c8-48bf-b52a-7a4db4ee0999"
      },
      "source": [
        "#Calculating measures of dispersion\n",
        "st_dev = df_df.std()\n",
        "print(st_dev)\n",
        "skew = df_df.skew()\n",
        "print(skew)\n",
        "kurt = df_df.kurtosis()\n",
        "print(kurt)"
      ],
      "execution_count": 37,
      "outputs": [
        {
          "output_type": "stream",
          "name": "stdout",
          "text": [
            "household_size     2.039625\n",
            "age               17.443507\n",
            "dtype: float64\n",
            "household_size    0.444242\n",
            "age               0.750009\n",
            "dtype: float64\n",
            "household_size   -0.833911\n",
            "age              -0.159222\n",
            "dtype: float64\n"
          ]
        }
      ]
    },
    {
      "cell_type": "code",
      "metadata": {
        "colab": {
          "base_uri": "https://localhost:8080/"
        },
        "id": "i2aRtAO8fUlX",
        "outputId": "9f3d0cae-5367-4714-9dee-ad19567ea75d"
      },
      "source": [
        "#Calculate quantiles\n",
        "quantile_age = df_df[\"age\"].quantile([0.25,0.5,0.75])\n",
        "print(quantile_age)\n",
        "quantile_size = df_df[\"household_size\"].quantile([0.25,0.5,0.75])\n",
        "print(quantile_size)"
      ],
      "execution_count": 38,
      "outputs": [
        {
          "output_type": "stream",
          "name": "stdout",
          "text": [
            "0.25    26.0\n",
            "0.50    36.0\n",
            "0.75    52.0\n",
            "Name: age, dtype: float64\n",
            "0.25    2.0\n",
            "0.50    3.0\n",
            "0.75    5.0\n",
            "Name: household_size, dtype: float64\n"
          ]
        }
      ]
    },
    {
      "cell_type": "code",
      "metadata": {
        "colab": {
          "base_uri": "https://localhost:8080/"
        },
        "id": "Xft7Y0qigZsl",
        "outputId": "47719e1f-47d5-436a-fa0a-c56983929e2e"
      },
      "source": [
        "# Univariate Summaries\n",
        "#Frequency tables\n",
        "df_df.country.value_counts()"
      ],
      "execution_count": 39,
      "outputs": [
        {
          "output_type": "execute_result",
          "data": {
            "text/plain": [
              "Rwanda      5069\n",
              "Kenya       4819\n",
              "Tanzania    3375\n",
              "Uganda      1571\n",
              "Name: country, dtype: int64"
            ]
          },
          "metadata": {},
          "execution_count": 39
        }
      ]
    },
    {
      "cell_type": "code",
      "metadata": {
        "colab": {
          "base_uri": "https://localhost:8080/",
          "height": 295
        },
        "id": "hQ_eCWTYgiyI",
        "outputId": "fb868067-744e-4008-cf40-6c3848407230"
      },
      "source": [
        "#Plotting a age histogram\n",
        "age_points = df_df['age']\n",
        "\n",
        "plt.hist(age_points, bins=10, histtype='bar', rwidth=0.9)\n",
        "plt.xlabel('Ages')\n",
        "plt.ylabel('Frequency')\n",
        "plt.title('Histogram of age vs frequency')\n",
        "plt.show()\n",
        "#Most people in the dataset is between the ages of 25 and 30."
      ],
      "execution_count": 40,
      "outputs": [
        {
          "output_type": "display_data",
          "data": {
            "image/png": "[encoded data removed]",
            "text/plain": [
              "<Figure size 432x288 with 1 Axes>"
            ]
          },
          "metadata": {
            "needs_background": "light"
          }
        }
      ]
    },
    {
      "cell_type": "code",
      "metadata": {
        "colab": {
          "base_uri": "https://localhost:8080/",
          "height": 264
        },
        "id": "7L1LPylvhD7K",
        "outputId": "c1f61be9-8c1a-4db2-91bf-9f8c82762313"
      },
      "source": [
        "#pie chart for countries\n",
        "df_df.country.value_counts().plot(kind='pie',autopct='%1.1f%%', shadow = True, startangle = 0, explode = (0.1, 0, 0, 0)   )\n",
        "  \n",
        "plt.axis('equal')\n",
        "plt.title('Pie chart of percentage respondents per country')\n",
        "plt.show()\n",
        "#We can conclude that Rwanda has the highest number of respondents in this study\n",
        "#at 34.2% and Uganda the lowest at 10.6%"
      ],
      "execution_count": 64,
      "outputs": [
        {
          "output_type": "display_data",
          "data": {
            "image/png": "[encoded data removed]",
            "text/plain": [
              "<Figure size 432x288 with 1 Axes>"
            ]
          },
          "metadata": {}
        }
      ]
    },
    {
      "cell_type": "code",
      "metadata": {
        "colab": {
          "base_uri": "https://localhost:8080/",
          "height": 295
        },
        "id": "KGJJp2ONg3ab",
        "outputId": "9302af50-4f8f-4438-e17e-bfba649a588b"
      },
      "source": [
        "#Plotting a age histogram\n",
        "size_points = df_df['household_size']\n",
        "\n",
        "plt.hist(size_points, bins=8, histtype='bar', rwidth=0.9)\n",
        "plt.xlabel('Household sizes')\n",
        "plt.ylabel('Frequency')\n",
        "plt.title('Histogram of Household_sizes vs frequency')\n",
        "plt.show()\n",
        "#Most people in the dataset have a household size of between 2 to 3"
      ],
      "execution_count": 41,
      "outputs": [
        {
          "output_type": "display_data",
          "data": {
            "image/png": "[encoded data removed]",
            "text/plain": [
              "<Figure size 432x288 with 1 Axes>"
            ]
          },
          "metadata": {
            "needs_background": "light"
          }
        }
      ]
    },
    {
      "cell_type": "markdown",
      "metadata": {
        "id": "b6TiuMgywegy"
      },
      "source": [
        "## b) Bivariate Analysis"
      ]
    },
    {
      "cell_type": "code",
      "metadata": {
        "id": "uLwk_eOit8lh"
      },
      "source": [
        "# Ploting the bivariate summaries and recording our observations\n",
        "#"
      ],
      "execution_count": null,
      "outputs": []
    },
    {
      "cell_type": "code",
      "metadata": {
        "colab": {
          "base_uri": "https://localhost:8080/"
        },
        "id": "yfkOurhwufNK",
        "outputId": "0ff95ee3-5275-4213-dd31-3c2bee40958b"
      },
      "source": [
        "#Numeric-Numeric Variables\n",
        "#Checking for numeric variables in our data\n",
        "#isolating numerical datatypes\n",
        "numerical = df_df.select_dtypes(include=['int64','float64','Int64'])[:]\n",
        "numerical.dtypes"
      ],
      "execution_count": 43,
      "outputs": [
        {
          "output_type": "execute_result",
          "data": {
            "text/plain": [
              "household_size    float64\n",
              "age               float64\n",
              "dtype: object"
            ]
          },
          "metadata": {},
          "execution_count": 43
        }
      ]
    },
    {
      "cell_type": "code",
      "metadata": {
        "colab": {
          "base_uri": "https://localhost:8080/",
          "height": 111
        },
        "id": "x7_6mx6zumsM",
        "outputId": "c3abb156-d749-427a-d30e-e2164756942c"
      },
      "source": [
        "#Calculating correlation\n",
        "correlation = numerical.dropna().corr()\n",
        "correlation"
      ],
      "execution_count": 44,
      "outputs": [
        {
          "output_type": "execute_result",
          "data": {
            "text/html": [
              "<div>\n",
              "<style scoped>\n",
              "    .dataframe tbody tr th:only-of-type {\n",
              "        vertical-align: middle;\n",
              "    }\n",
              "\n",
              "    .dataframe tbody tr th {\n",
              "        vertical-align: top;\n",
              "    }\n",
              "\n",
              "    .dataframe thead th {\n",
              "        text-align: right;\n",
              "    }\n",
              "</style>\n",
              "<table border=\"1\" class=\"dataframe\">\n",
              "  <thead>\n",
              "    <tr style=\"text-align: right;\">\n",
              "      <th></th>\n",
              "      <th>household_size</th>\n",
              "      <th>age</th>\n",
              "    </tr>\n",
              "  </thead>\n",
              "  <tbody>\n",
              "    <tr>\n",
              "      <th>household_size</th>\n",
              "      <td>1.000000</td>\n",
              "      <td>-0.127624</td>\n",
              "    </tr>\n",
              "    <tr>\n",
              "      <th>age</th>\n",
              "      <td>-0.127624</td>\n",
              "      <td>1.000000</td>\n",
              "    </tr>\n",
              "  </tbody>\n",
              "</table>\n",
              "</div>"
            ],
            "text/plain": [
              "                household_size       age\n",
              "household_size        1.000000 -0.127624\n",
              "age                  -0.127624  1.000000"
            ]
          },
          "metadata": {},
          "execution_count": 44
        }
      ]
    },
    {
      "cell_type": "code",
      "metadata": {
        "colab": {
          "base_uri": "https://localhost:8080/",
          "height": 287
        },
        "id": "WAovJW1tuwi8",
        "outputId": "529bc24a-e0f6-404a-f345-53518647cbe1"
      },
      "source": [
        "# Correlation heatmap\n",
        "sns.heatmap(correlation, xticklabels=correlation.columns, yticklabels=correlation.columns, annot=True)\n",
        "#There is no correlation between household size and age of respondents"
      ],
      "execution_count": 45,
      "outputs": [
        {
          "output_type": "execute_result",
          "data": {
            "text/plain": [
              "<matplotlib.axes._subplots.AxesSubplot at 0x7f53474c4890>"
            ]
          },
          "metadata": {},
          "execution_count": 45
        },
        {
          "output_type": "display_data",
          "data": {
            "image/png": "[encoded data removed]",
            "text/plain": [
              "<Figure size 432x288 with 2 Axes>"
            ]
          },
          "metadata": {
            "needs_background": "light"
          }
        }
      ]
    },
    {
      "cell_type": "code",
      "metadata": {
        "colab": {
          "base_uri": "https://localhost:8080/",
          "height": 296
        },
        "id": "y-F12Idsu5-D",
        "outputId": "8334862a-a0c9-48fd-9166-cb4d2d9ad872"
      },
      "source": [
        "#Plotting scatter plots\n",
        "plt.scatter(numerical[\"household_size\"] , df_df[\"age\"])\n",
        "plt.title('Household size vs Age')\n",
        "plt.xlabel('Household_size')\n",
        "plt.ylabel('Age')\n",
        "plt.show()"
      ],
      "execution_count": 47,
      "outputs": [
        {
          "output_type": "display_data",
          "data": {
            "image/png": "[encoded data removed]",
            "text/plain": [
              "<Figure size 432x288 with 1 Axes>"
            ]
          },
          "metadata": {
            "needs_background": "light"
          }
        }
      ]
    },
    {
      "cell_type": "code",
      "metadata": {
        "colab": {
          "base_uri": "https://localhost:8080/"
        },
        "id": "uJEW5tnIvC3v",
        "outputId": "00b57570-b216-4936-abbe-f78261b7c975"
      },
      "source": [
        "#Categorical-categorical\n",
        "df_df.dtypes"
      ],
      "execution_count": 48,
      "outputs": [
        {
          "output_type": "execute_result",
          "data": {
            "text/plain": [
              "country                 category\n",
              "year              datetime64[ns]\n",
              "bank_acc                category\n",
              "residence               category\n",
              "household_size           float64\n",
              "age                      float64\n",
              "gender                  category\n",
              "education               category\n",
              "job                     category\n",
              "dtype: object"
            ]
          },
          "metadata": {},
          "execution_count": 48
        }
      ]
    },
    {
      "cell_type": "code",
      "metadata": {
        "colab": {
          "base_uri": "https://localhost:8080/",
          "height": 347
        },
        "id": "DrNoovKrvKcQ",
        "outputId": "09d1eac5-1b13-435d-d45c-3cd90eb5ab6f"
      },
      "source": [
        "#Which gender is most likely to own a bank account\n",
        "ax1 = df_df.groupby('bank_acc')['gender'].value_counts(normalize=True).unstack()\n",
        "ax1.plot(kind='bar', stacked='True',title=str(ax1))\n",
        "int_level = df_df['bank_acc'].value_counts()\n",
        "#From output, we can conclude \n",
        "#the difference between the males and females who own a bank account is \n",
        "#significant. The number of Males who own a bank account is significantly more \n",
        "#than females."
      ],
      "execution_count": 49,
      "outputs": [
        {
          "output_type": "display_data",
          "data": {
            "image/png": "[encoded data removed]",
            "text/plain": [
              "<Figure size 432x288 with 1 Axes>"
            ]
          },
          "metadata": {
            "needs_background": "light"
          }
        }
      ]
    },
    {
      "cell_type": "code",
      "metadata": {
        "colab": {
          "base_uri": "https://localhost:8080/",
          "height": 347
        },
        "id": "E-I6y1CvvZ4k",
        "outputId": "6c42935e-bfc8-41ad-c97c-7feb6957fa36"
      },
      "source": [
        "#People from which kind of residence are most likely to own a bank account\n",
        "ax2 = df_df.groupby('bank_acc')['residence'].value_counts(normalize=True).unstack()\n",
        "ax2.plot(kind='bar', stacked='True',title=str(ax1))\n",
        "int_level = df_df['bank_acc'].value_counts()\n",
        "#From output, we can conclude \n",
        "#Individuals from urban setup are most likely to have a bank account and\n",
        "# those from rural areas are less likely to have a bank account"
      ],
      "execution_count": 51,
      "outputs": [
        {
          "output_type": "display_data",
          "data": {
            "image/png": "[encoded data removed]",
            "text/plain": [
              "<Figure size 432x288 with 1 Axes>"
            ]
          },
          "metadata": {
            "needs_background": "light"
          }
        }
      ]
    },
    {
      "cell_type": "code",
      "metadata": {
        "colab": {
          "base_uri": "https://localhost:8080/",
          "height": 347
        },
        "id": "HQTVAhF5vlAU",
        "outputId": "5dca6667-1e87-44ad-8b01-676cde7a3581"
      },
      "source": [
        "#People from which kind of jobs are most likely to own a bank account\n",
        "ax3 = df_df.groupby('bank_acc')['job'].value_counts(normalize=True).unstack()\n",
        "ax3.plot(kind='bar', stacked='True',title=str(ax1))\n",
        "int_level = df_df['bank_acc'].value_counts()\n",
        "#From output, we can conclude \n",
        "#Individuals who are self employed are most likely to have a bank account and\n",
        "# those who are informally employed are less likely to have a bank account"
      ],
      "execution_count": 52,
      "outputs": [
        {
          "output_type": "display_data",
          "data": {
            "image/png": "[encoded data removed]",
            "text/plain": [
              "<Figure size 432x288 with 1 Axes>"
            ]
          },
          "metadata": {
            "needs_background": "light"
          }
        }
      ]
    },
    {
      "cell_type": "code",
      "metadata": {
        "colab": {
          "base_uri": "https://localhost:8080/",
          "height": 347
        },
        "id": "sdCB-y_6vyaI",
        "outputId": "712b9d6d-7e37-43df-8b63-0c7db653cdd5"
      },
      "source": [
        "#People from which country are most likely to own a bank account\n",
        "ax4 = df_df.groupby('bank_acc')['country'].value_counts(normalize=True).unstack()\n",
        "ax4.plot(kind='bar', stacked='True',title=str(ax1))\n",
        "int_level = df_df['bank_acc'].value_counts()\n",
        "#From output, we can conclude \n",
        "#Individuals from Kenya are most likely to have a bank account and\n",
        "# those Uganda are less likely to have a bank account"
      ],
      "execution_count": 53,
      "outputs": [
        {
          "output_type": "display_data",
          "data": {
            "image/png": "[encoded data removed]",
            "text/plain": [
              "<Figure size 432x288 with 1 Axes>"
            ]
          },
          "metadata": {
            "needs_background": "light"
          }
        }
      ]
    },
    {
      "cell_type": "code",
      "metadata": {
        "colab": {
          "base_uri": "https://localhost:8080/",
          "height": 347
        },
        "id": "ctQCTKz0v-H8",
        "outputId": "35da10f3-ce0b-4e30-c875-0fbb46d2ba6c"
      },
      "source": [
        "#Numerical-Categorical Variables\n",
        "#create Age groups\n",
        "\n",
        "bins= [10,20,30,50,80,100]\n",
        "labels = ['Teen','Youth','Adult','Senior Citizen','Very old']\n",
        "df_df['AgeGroup'] = pd.cut(df_df['age'], bins=bins, labels=labels, right=False)\n",
        "df_df\n",
        "#People from which AgeGroup are most likely to own a bank account\n",
        "ax5 = df_df.groupby('bank_acc')['AgeGroup'].value_counts(normalize=True).unstack()\n",
        "ax5.plot(kind='bar', stacked='True',title=str(ax1))\n",
        "int_level = df_df['bank_acc'].value_counts()\n",
        "#From output, we can conclude  that\n",
        "#Individuals between the ages of 30_50, adults are most likely to have a bank \n",
        "# account and those above 80years are less likely to have a bank account"
      ],
      "execution_count": 54,
      "outputs": [
        {
          "output_type": "display_data",
          "data": {
            "image/png": "[encoded data removed]",
            "text/plain": [
              "<Figure size 432x288 with 1 Axes>"
            ]
          },
          "metadata": {
            "needs_background": "light"
          }
        }
      ]
    },
    {
      "cell_type": "code",
      "metadata": {
        "colab": {
          "base_uri": "https://localhost:8080/",
          "height": 347
        },
        "id": "6PqIofmAwK1P",
        "outputId": "f9177341-2e38-4047-a982-48fd01d5ae0d"
      },
      "source": [
        "#create Household size groups\n",
        "\n",
        "bins= [1,2,4,6,8]\n",
        "labels = ['Small','Medium','Large','Very large']\n",
        "df_df['size'] = pd.cut(df_df['household_size'], bins=bins, labels=labels, right=False)\n",
        "df_df\n",
        "#People from which AgeGroup are most likely to own a bank account\n",
        "ax6 = df_df.groupby('bank_acc')['size'].value_counts(normalize=True).unstack()\n",
        "ax6.plot(kind='bar', stacked='True',title=str(ax1))\n",
        "int_level = df_df['bank_acc'].value_counts()\n",
        "#From output, we can conclude  that\n",
        "#Individuals from medium sized homes are most likely to have a bank \n",
        "# account and those from very large families are less likely to have a bank account"
      ],
      "execution_count": 56,
      "outputs": [
        {
          "output_type": "display_data",
          "data": {
            "image/png": "[encoded data removed]",
            "text/plain": [
              "<Figure size 432x288 with 1 Axes>"
            ]
          },
          "metadata": {
            "needs_background": "light"
          }
        }
      ]
    },
    {
      "cell_type": "markdown",
      "metadata": {
        "id": "OE8dMNfcwkhB"
      },
      "source": [
        "## c) Multivariate Analysis"
      ]
    },
    {
      "cell_type": "code",
      "metadata": {
        "id": "er71gmiDt8Ya"
      },
      "source": [
        "# Numerical data is absent to create a multivariate analysis"
      ],
      "execution_count": null,
      "outputs": []
    },
    {
      "cell_type": "markdown",
      "metadata": {
        "id": "ZCH4Zr6kveBU"
      },
      "source": [
        "#**7. Implementing the Solution**"
      ]
    },
    {
      "cell_type": "markdown",
      "metadata": {
        "id": "JOh48LdFvrPs"
      },
      "source": [
        "## Discriminant analysis"
      ]
    },
    {
      "cell_type": "code",
      "metadata": {
        "colab": {
          "base_uri": "https://localhost:8080/"
        },
        "id": "r1IsRt6zv0R5",
        "outputId": "8975bbef-5cef-4f4b-96a7-c3ce323c2a12"
      },
      "source": [
        "#Discriminant analysis using the dataset df_df dividing data into labels and feature set\n",
        "\n",
        "x = df_df.iloc[:, 4:6].values\n",
        "y = df_df.iloc[:, 2].values\n",
        "x\n",
        "y"
      ],
      "execution_count": 57,
      "outputs": [
        {
          "output_type": "execute_result",
          "data": {
            "text/plain": [
              "['Yes', 'No', 'Yes', 'No', 'No', ..., 'No', 'No', 'No', 'No', 'No']\n",
              "Length: 14834\n",
              "Categories (2, object): ['No', 'Yes']"
            ]
          },
          "metadata": {},
          "execution_count": 57
        }
      ]
    },
    {
      "cell_type": "code",
      "metadata": {
        "id": "29Jj7d8g6ysF"
      },
      "source": [
        "#Divide data into training and test sets\n",
        "\n",
        "from sklearn.model_selection import train_test_split\n",
        "x_train, x_test, y_train, y_test = train_test_split(x, y, test_size=0.2, random_state=0)"
      ],
      "execution_count": 58,
      "outputs": []
    },
    {
      "cell_type": "code",
      "metadata": {
        "id": "ALNhtqYA7JdD"
      },
      "source": [
        "#Feature scaling\n",
        " \n",
        "from sklearn.preprocessing import StandardScaler\n",
        "sc = StandardScaler()\n",
        "x_train = sc.fit_transform(x_train)\n",
        "x_test = sc.transform(x_test)"
      ],
      "execution_count": 59,
      "outputs": []
    },
    {
      "cell_type": "code",
      "metadata": {
        "colab": {
          "base_uri": "https://localhost:8080/"
        },
        "id": "tRZO9B4O7PS4",
        "outputId": "9db9f37d-8dd4-41e3-b39a-8fe9d2f14a43"
      },
      "source": [
        "# Discriminant analysis with Scikit-Learn\n",
        "from sklearn.discriminant_analysis import LinearDiscriminantAnalysis as LDA\n",
        "lda = LDA(n_components=1)\n",
        "x_train = lda.fit_transform(x_train, y_train)\n",
        "x_test = lda.transform(x_test)\n",
        "print(x_test)\n",
        "print(x_train)"
      ],
      "execution_count": 60,
      "outputs": [
        {
          "output_type": "stream",
          "name": "stdout",
          "text": [
            "[[ 0.45081481]\n",
            " [-1.74830906]\n",
            " [-0.63773291]\n",
            " ...\n",
            " [-2.01265019]\n",
            " [ 1.00152549]\n",
            " [-0.02522816]]\n",
            "[[-0.76206402]\n",
            " [-1.13580431]\n",
            " [-1.35608858]\n",
            " ...\n",
            " [-1.57208164]\n",
            " [ 1.06761078]\n",
            " [-0.74358383]]\n"
          ]
        }
      ]
    },
    {
      "cell_type": "code",
      "metadata": {
        "colab": {
          "base_uri": "https://localhost:8080/"
        },
        "id": "NEKEeTPn7YP9",
        "outputId": "3627290f-17f5-43b8-c05c-2d96118ae58f"
      },
      "source": [
        "#Training and Making Predictions using the random forest classifier to evaluate the performance of a LDA-reduced algorithms\n",
        "from sklearn.ensemble import RandomForestClassifier\n",
        "\n",
        "classifier = RandomForestClassifier(max_depth=2, random_state=0)\n",
        "classifier.fit(x_train, y_train)\n",
        "y_pred = classifier.predict(x_test)\n",
        "y_pred"
      ],
      "execution_count": 61,
      "outputs": [
        {
          "output_type": "execute_result",
          "data": {
            "text/plain": [
              "array(['No', 'No', 'No', ..., 'No', 'No', 'No'], dtype=object)"
            ]
          },
          "metadata": {},
          "execution_count": 61
        }
      ]
    },
    {
      "cell_type": "code",
      "metadata": {
        "colab": {
          "base_uri": "https://localhost:8080/"
        },
        "id": "NlpTJw3J7qNH",
        "outputId": "4e221071-e961-47e9-f875-440c31fb8796"
      },
      "source": [
        "# Evaluating the Performance with the help of a confusion matrix and find the accuracy of the prediction.\n",
        "\n",
        "\n",
        "from sklearn.metrics import confusion_matrix\n",
        "from sklearn.metrics import accuracy_score\n",
        "\n",
        "cm = confusion_matrix(y_test, y_pred)\n",
        "print(cm)\n",
        "print('Accuracy' + str(accuracy_score(y_test, y_pred)))\n",
        "\n",
        "# The algorithm achieved an accuracy of 80%"
      ],
      "execution_count": 62,
      "outputs": [
        {
          "output_type": "stream",
          "name": "stdout",
          "text": [
            "[[2356    0]\n",
            " [ 611    0]]\n",
            "Accuracy0.7940680822379508\n"
          ]
        }
      ]
    },
    {
      "cell_type": "markdown",
      "metadata": {
        "id": "Q6ms_r9YwBfh"
      },
      "source": [
        "#**8. Follow up questions**"
      ]
    },
    {
      "cell_type": "markdown",
      "metadata": {
        "id": "ZSV_oR_0AjR6"
      },
      "source": [
        "**a). Did we have the right data?**\n",
        "\n",
        "Yes, because the data had al the relevant fields.\n",
        "\n",
        "**b). Do we need other data to answer our question**\n",
        "\n",
        "No, but it would have been better to have more numerical values in the data.\n",
        "\n",
        "**c). Did we have the right question?**\n",
        "\n",
        "Yes. It was relevant to the current state of the world since many more people are signing up for bank accounts, so its good to analyse such data."
      ]
    }
  ]
}